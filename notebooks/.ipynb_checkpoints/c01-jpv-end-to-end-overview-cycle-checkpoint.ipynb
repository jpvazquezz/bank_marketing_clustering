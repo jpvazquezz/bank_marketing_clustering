{
 "cells": [
  {
   "cell_type": "markdown",
   "id": "a7bad10c",
   "metadata": {},
   "source": [
    "# 0.0 Imports"
   ]
  },
  {
   "cell_type": "code",
   "execution_count": 53,
   "id": "cfb40296",
   "metadata": {},
   "outputs": [],
   "source": [
    "import pandas as pd\n",
    "import numpy  as np\n",
    "import inflection\n",
    "\n",
    "import matplotlib.pyplot    as plt\n",
    "\n",
    "from sklearn import metrics as m\n",
    "from sklearn import cluster as c"
   ]
  },
  {
   "cell_type": "markdown",
   "id": "c644d14d",
   "metadata": {
    "heading_collapsed": true
   },
   "source": [
    "## 0.1 Load Data"
   ]
  },
  {
   "cell_type": "code",
   "execution_count": 2,
   "id": "c4142168",
   "metadata": {
    "hidden": true
   },
   "outputs": [],
   "source": [
    "df = pd.read_csv('../data/raw/CC_GENERAL.csv')"
   ]
  },
  {
   "cell_type": "markdown",
   "id": "e8fccab2",
   "metadata": {
    "heading_collapsed": true
   },
   "source": [
    "## 0.2 Rename Columns"
   ]
  },
  {
   "cell_type": "code",
   "execution_count": 10,
   "id": "713246ce",
   "metadata": {
    "hidden": true
   },
   "outputs": [],
   "source": [
    "old_cols = df.columns.tolist()\n",
    "\n",
    "snakecase = lambda x: inflection.underscore(x)\n",
    "\n",
    "new_cols = list(map(snakecase, old_cols))\n",
    "\n",
    "# Rename columns\n",
    "df.columns = new_cols"
   ]
  },
  {
   "cell_type": "markdown",
   "id": "915451c5",
   "metadata": {},
   "source": [
    "# 1.0 Data Description\n"
   ]
  },
  {
   "cell_type": "code",
   "execution_count": 12,
   "id": "db25a4ff",
   "metadata": {},
   "outputs": [],
   "source": [
    "df1 = df.copy()"
   ]
  },
  {
   "cell_type": "markdown",
   "id": "0a3ef24b",
   "metadata": {},
   "source": [
    "## 1.1 Feature Description"
   ]
  },
  {
   "cell_type": "markdown",
   "id": "2c79c094",
   "metadata": {},
   "source": [
    "* CUSTID : Identification of Credit Card holder (Categorical)\n",
    "* BALANCE : Balance amount left in their account to make purchases (\n",
    "* BALANCEFREQUENCY : How frequently the Balance is updated, score between 0 and 1 (1 = frequently updated, 0 = not frequently updated)\n",
    "* PURCHASES : Amount of purchases made from account\n",
    "* ONEOFFPURCHASES : Maximum purchase amount done in one-go\n",
    "* INSTALLMENTSPURCHASES : Amount of purchase done in installment\n",
    "* CASHADVANCE : Cash in advance given by the user\n",
    "* PURCHASESFREQUENCY : How frequently the Purchases are being made, score between 0 and 1 (1 = frequently purchased, 0 = not frequently purchased)\n",
    "* ONEOFFPURCHASESFREQUENCY : How frequently Purchases are happening in one-go (1 = frequently purchased, 0 = not frequently purchased)\n",
    "* PURCHASESINSTALLMENTSFREQUENCY : How frequently purchases in installments are being done (1 = frequently done, 0 = not frequently done)\n",
    "* CASHADVANCEFREQUENCY : How frequently the cash in advance being paid\n",
    "* CASHADVANCETRX : Number of Transactions made with \"Cash in Advanced\"\n",
    "* PURCHASESTRX : Numbe of purchase transactions made\n",
    "* CREDITLIMIT : Limit of Credit Card for user\n",
    "* PAYMENTS : Amount of Payment done by user\n",
    "* MINIMUM_PAYMENTS : Minimum amount of payments made by user\n",
    "* PRCFULLPAYMENT : Percent of full payment paid by user\n",
    "* TENURE : Tenure of credit card service for user"
   ]
  },
  {
   "cell_type": "markdown",
   "id": "dff4c9d6",
   "metadata": {},
   "source": [
    "## 1.2 Data Dimensions"
   ]
  },
  {
   "cell_type": "code",
   "execution_count": 13,
   "id": "082eec18",
   "metadata": {},
   "outputs": [
    {
     "name": "stdout",
     "output_type": "stream",
     "text": [
      "The dataset has 18 columns\n",
      "The dataset has 8950 rows\n"
     ]
    }
   ],
   "source": [
    "print('The dataset has {} columns'.format(df1.shape[1]))\n",
    "print('The dataset has {} rows'.format(df1.shape[0]))"
   ]
  },
  {
   "cell_type": "markdown",
   "id": "c9dcda6b",
   "metadata": {},
   "source": [
    "## 1.3 Data Types"
   ]
  },
  {
   "cell_type": "code",
   "execution_count": 14,
   "id": "2fa89770",
   "metadata": {
    "scrolled": true
   },
   "outputs": [
    {
     "data": {
      "text/plain": [
       "cust_id                              object\n",
       "balance                             float64\n",
       "balance_frequency                   float64\n",
       "purchases                           float64\n",
       "oneoff_purchases                    float64\n",
       "installments_purchases              float64\n",
       "cash_advance                        float64\n",
       "purchases_frequency                 float64\n",
       "oneoff_purchases_frequency          float64\n",
       "purchases_installments_frequency    float64\n",
       "cash_advance_frequency              float64\n",
       "cash_advance_trx                      int64\n",
       "purchases_trx                         int64\n",
       "credit_limit                        float64\n",
       "payments                            float64\n",
       "minimum_payments                    float64\n",
       "prc_full_payment                    float64\n",
       "tenure                                int64\n",
       "dtype: object"
      ]
     },
     "execution_count": 14,
     "metadata": {},
     "output_type": "execute_result"
    }
   ],
   "source": [
    "# Right datatype by default\n",
    "df1.dtypes"
   ]
  },
  {
   "cell_type": "markdown",
   "id": "da3668c0",
   "metadata": {},
   "source": [
    "## 1.4 Check NAs\n"
   ]
  },
  {
   "cell_type": "code",
   "execution_count": 17,
   "id": "1c227cf8",
   "metadata": {
    "scrolled": true
   },
   "outputs": [
    {
     "data": {
      "text/plain": [
       "credit_limit          1\n",
       "minimum_payments    313\n",
       "dtype: int64"
      ]
     },
     "execution_count": 17,
     "metadata": {},
     "output_type": "execute_result"
    }
   ],
   "source": [
    "df1.isna().sum()[df1.isna().sum()>0]"
   ]
  },
  {
   "cell_type": "code",
   "execution_count": 28,
   "id": "113b08ce",
   "metadata": {},
   "outputs": [
    {
     "data": {
      "text/html": [
       "<div>\n",
       "<style scoped>\n",
       "    .dataframe tbody tr th:only-of-type {\n",
       "        vertical-align: middle;\n",
       "    }\n",
       "\n",
       "    .dataframe tbody tr th {\n",
       "        vertical-align: top;\n",
       "    }\n",
       "\n",
       "    .dataframe thead th {\n",
       "        text-align: right;\n",
       "    }\n",
       "</style>\n",
       "<table border=\"1\" class=\"dataframe\">\n",
       "  <thead>\n",
       "    <tr style=\"text-align: right;\">\n",
       "      <th></th>\n",
       "      <th>cust_id</th>\n",
       "      <th>balance</th>\n",
       "      <th>balance_frequency</th>\n",
       "      <th>purchases</th>\n",
       "      <th>oneoff_purchases</th>\n",
       "      <th>installments_purchases</th>\n",
       "      <th>cash_advance</th>\n",
       "      <th>purchases_frequency</th>\n",
       "      <th>oneoff_purchases_frequency</th>\n",
       "      <th>purchases_installments_frequency</th>\n",
       "      <th>cash_advance_frequency</th>\n",
       "      <th>cash_advance_trx</th>\n",
       "      <th>purchases_trx</th>\n",
       "      <th>credit_limit</th>\n",
       "      <th>payments</th>\n",
       "      <th>minimum_payments</th>\n",
       "      <th>prc_full_payment</th>\n",
       "      <th>tenure</th>\n",
       "    </tr>\n",
       "  </thead>\n",
       "  <tbody>\n",
       "    <tr>\n",
       "      <th>5203</th>\n",
       "      <td>C15349</td>\n",
       "      <td>18.400472</td>\n",
       "      <td>0.166667</td>\n",
       "      <td>0.0</td>\n",
       "      <td>0.0</td>\n",
       "      <td>0.0</td>\n",
       "      <td>186.853063</td>\n",
       "      <td>0.0</td>\n",
       "      <td>0.0</td>\n",
       "      <td>0.0</td>\n",
       "      <td>0.166667</td>\n",
       "      <td>1</td>\n",
       "      <td>0</td>\n",
       "      <td>NaN</td>\n",
       "      <td>9.040017</td>\n",
       "      <td>14.418723</td>\n",
       "      <td>0.0</td>\n",
       "      <td>6</td>\n",
       "    </tr>\n",
       "  </tbody>\n",
       "</table>\n",
       "</div>"
      ],
      "text/plain": [
       "     cust_id    balance  balance_frequency  purchases  oneoff_purchases  \\\n",
       "5203  C15349  18.400472           0.166667        0.0               0.0   \n",
       "\n",
       "      installments_purchases  cash_advance  purchases_frequency  \\\n",
       "5203                     0.0    186.853063                  0.0   \n",
       "\n",
       "      oneoff_purchases_frequency  purchases_installments_frequency  \\\n",
       "5203                         0.0                               0.0   \n",
       "\n",
       "      cash_advance_frequency  cash_advance_trx  purchases_trx  credit_limit  \\\n",
       "5203                0.166667                 1              0           NaN   \n",
       "\n",
       "      payments  minimum_payments  prc_full_payment  tenure  \n",
       "5203  9.040017         14.418723               0.0       6  "
      ]
     },
     "execution_count": 28,
     "metadata": {},
     "output_type": "execute_result"
    }
   ],
   "source": [
    "df1[df1.credit_limit.isna()]"
   ]
  },
  {
   "cell_type": "markdown",
   "id": "edd551cb",
   "metadata": {},
   "source": [
    "## 1.5 Fillout NAs"
   ]
  },
  {
   "cell_type": "code",
   "execution_count": 32,
   "id": "585ec6d0",
   "metadata": {},
   "outputs": [],
   "source": [
    "# Drop NAs\n",
    "df1.dropna(inplace=True)\n",
    "print(\"Now the dataset has {} rows.\".format(df1.shape[0]))"
   ]
  },
  {
   "cell_type": "markdown",
   "id": "d30ee024",
   "metadata": {},
   "source": [
    "# 2.0 Feature Engeneering"
   ]
  },
  {
   "cell_type": "code",
   "execution_count": 35,
   "id": "35a27fb7",
   "metadata": {},
   "outputs": [],
   "source": [
    "df2 = df1.copy()"
   ]
  },
  {
   "cell_type": "markdown",
   "id": "4eaadba7",
   "metadata": {},
   "source": [
    "# 3.0 Exploratory Data Analysis (EDA)"
   ]
  },
  {
   "cell_type": "code",
   "execution_count": 37,
   "id": "6629a8f0",
   "metadata": {},
   "outputs": [],
   "source": [
    "df3 = df2.copy()"
   ]
  },
  {
   "cell_type": "markdown",
   "id": "888efbae",
   "metadata": {},
   "source": [
    "# 4.0 Data Preparation"
   ]
  },
  {
   "cell_type": "code",
   "execution_count": 38,
   "id": "30f7ad47",
   "metadata": {},
   "outputs": [],
   "source": [
    "df4 = df3.copy()"
   ]
  },
  {
   "cell_type": "markdown",
   "id": "d69d80dc",
   "metadata": {},
   "source": [
    "# 5.0 Feature Selection\n",
    "\n"
   ]
  },
  {
   "cell_type": "code",
   "execution_count": 39,
   "id": "550712ac",
   "metadata": {},
   "outputs": [],
   "source": [
    "df5 = df4.copy()"
   ]
  },
  {
   "cell_type": "markdown",
   "id": "b27b6e63",
   "metadata": {},
   "source": [
    "# 6.0 Hyperparameter Fine-Tunning"
   ]
  },
  {
   "cell_type": "code",
   "execution_count": 40,
   "id": "3cda4de3",
   "metadata": {},
   "outputs": [],
   "source": [
    "df6 = df5.copy()\n",
    "X = df6.drop('cust_id', axis=1)\n",
    "\n",
    "clusters = np.arange(2,25,1)"
   ]
  },
  {
   "cell_type": "code",
   "execution_count": 50,
   "id": "1c4f901d",
   "metadata": {},
   "outputs": [],
   "source": [
    "kmeans_list  = []\n",
    "for k in clusters:\n",
    "    # Model definition\n",
    "    kmeans = c.KMeans(n_clusters=k)\n",
    "    \n",
    "    # Model training\n",
    "    kmeans.fit(X)\n",
    "    \n",
    "    # Model Prediction\n",
    "    labels = kmeans.predict(X)\n",
    "    \n",
    "    # Model Performance\n",
    "    sil_score = m.silhouette_score(X, labels, metric='euclidean')\n",
    "    kmeans_list.append(sil_score)"
   ]
  },
  {
   "cell_type": "code",
   "execution_count": 54,
   "id": "20cd0446",
   "metadata": {},
   "outputs": [
    {
     "data": {
      "image/png": "[encoded data removed]",
      "text/plain": [
       "<Figure size 432x288 with 1 Axes>"
      ]
     },
     "metadata": {
      "needs_background": "light"
     },
     "output_type": "display_data"
    }
   ],
   "source": [
    "# Plot Silhouette Score Elbow\n",
    "plt.plot(clusters, kmeans_list, linestyle='--',marker='o',color='b');\n",
    "plt.title('Silhouette Score Elbow for KMeans');\n",
    "plt.ylabel('Silhouette Score');\n",
    "plt.xlabel('Number of Clusters');"
   ]
  },
  {
   "cell_type": "markdown",
   "id": "d5b2938e",
   "metadata": {
    "heading_collapsed": true
   },
   "source": [
    "# 7.0 Machine Learning Modelling"
   ]
  },
  {
   "cell_type": "code",
   "execution_count": 42,
   "id": "35cc7a95",
   "metadata": {
    "hidden": true
   },
   "outputs": [],
   "source": [
    "df7 = df6.copy()"
   ]
  },
  {
   "cell_type": "markdown",
   "id": "3266e8d3",
   "metadata": {
    "heading_collapsed": true
   },
   "source": [
    "# 8.0 Cluster Analysis"
   ]
  },
  {
   "cell_type": "code",
   "execution_count": 43,
   "id": "61ac260a",
   "metadata": {
    "hidden": true
   },
   "outputs": [],
   "source": [
    "df8 = df7.copy()"
   ]
  },
  {
   "cell_type": "markdown",
   "id": "66be9925",
   "metadata": {
    "heading_collapsed": true
   },
   "source": [
    "# 9.0 EDA - Cluster Profiles\n"
   ]
  },
  {
   "cell_type": "code",
   "execution_count": 44,
   "id": "a97ba1e1",
   "metadata": {
    "hidden": true
   },
   "outputs": [],
   "source": [
    "df9 =df8.copy()"
   ]
  },
  {
   "cell_type": "markdown",
   "id": "4c2c798e",
   "metadata": {},
   "source": [
    "# 10.0 Deployment"
   ]
  }
 ],
 "metadata": {
  "kernelspec": {
   "display_name": "Python 3 (ipykernel)",
   "language": "python",
   "name": "python3"
  },
  "language_info": {
   "codemirror_mode": {
    "name": "ipython",
    "version": 3
   },
   "file_extension": ".py",
   "mimetype": "text/x-python",
   "name": "python",
   "nbconvert_exporter": "python",
   "pygments_lexer": "ipython3",
   "version": "3.7.6"
  }
 },
 "nbformat": 4,
 "nbformat_minor": 5
}
