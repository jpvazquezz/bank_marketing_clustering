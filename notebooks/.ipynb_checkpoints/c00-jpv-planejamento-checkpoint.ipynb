{
 "cells": [
  {
   "cell_type": "markdown",
   "metadata": {},
   "source": [
    "# 0.0 Planejamento da Solução (IOT)"
   ]
  },
  {
   "cell_type": "markdown",
   "metadata": {},
   "source": [
    "## 0.1 Inputs"
   ]
  },
  {
   "cell_type": "markdown",
   "metadata": {},
   "source": [
    "1. **Problema de negócio**: criação de uma estratégia de marketing para abordar os clientes que usam cartão de crédito.\n",
    "2. **Questões a serem respondidas**: irão surgir a partir do output.\n",
    "3. **Fonte de dados**: dataset da empresa sobre o comportamento de uso de aproximadamente 9000 usuários de cartão de crédito ativos, dos últimos 6 meses, cuja granularidade está no nível de clientes e cujas features são 18 variáveis comportamentais."
   ]
  },
  {
   "cell_type": "markdown",
   "metadata": {},
   "source": [
    "## 0.2 Outputs"
   ]
  },
  {
   "cell_type": "markdown",
   "metadata": {},
   "source": [
    "* Produto de dados que cria uma **segmentação de clientes** que direcionará a estratégia de marketing\n",
    "* Requisitos:\n",
    "    - **Baseado em critérios claros de seleção**\n",
    "    - Acessível para o time de operações\n",
    "    - Ensinar o time de operações sobre como usar a sua solução\n",
    "    - Transferir o conhecimento para os Cientistas de Dados da International Bank\n",
    "    - **Recomendar 2-3 alavancas de negócio para cada segmento de clientes**"
   ]
  },
  {
   "cell_type": "markdown",
   "metadata": {},
   "source": [
    "## 0.3 Tasks (Tarefas)"
   ]
  },
  {
   "cell_type": "markdown",
   "metadata": {},
   "source": [
    "* **Plano de Execução**: - Clusterização\n",
    "    - Data Description\n",
    "    - Feature Filtering / Feature Engeneering\n",
    "    - Exploratory Data Analysis (EDA)\n",
    "    - Data Preparation\n",
    "    - Feature Selection\n",
    "    - Hyperparameter Fine-Tunning\n",
    "    - Machine Learning Modelling\n",
    "    - Cluster Analysis\n",
    "    - EDA - Cluster Profiles\n",
    "    - Deployment"
   ]
  },
  {
   "cell_type": "markdown",
   "metadata": {},
   "source": [
    "* **Ferramentas**:\n",
    "    - Qual numem?\n",
    "    - Qual banco de dados?\n",
    "    - Qual ferramenta de visualização?\n",
    " "
   ]
  },
  {
   "cell_type": "markdown",
   "metadata": {},
   "source": [
    "* **Research Desk**:\n",
    "    - Customer Profiling and Segmentation – An Analytical Approach To Business Strategy In Retail Banking (https://www.analyticsvidhya.com/blog/2021/03/customer-profiling-and-segmentation-an-analytical-approach-to-business-strategy-in-retail-banking/)"
   ]
  }
 ],
 "metadata": {
  "kernelspec": {
   "display_name": "Python 3 (ipykernel)",
   "language": "python",
   "name": "python3"
  },
  "language_info": {
   "codemirror_mode": {
    "name": "ipython",
    "version": 3
   },
   "file_extension": ".py",
   "mimetype": "text/x-python",
   "name": "python",
   "nbconvert_exporter": "python",
   "pygments_lexer": "ipython3",
   "version": "3.7.6"
  }
 },
 "nbformat": 4,
 "nbformat_minor": 4
}
